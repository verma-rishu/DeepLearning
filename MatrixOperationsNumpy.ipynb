{
  "cells": [
    {
      "attachments": {},
      "cell_type": "markdown",
      "metadata": {
        "id": "FU6cmR_6HtW0"
      },
      "source": [
        "<h1><center>Foundations of Deep Learning</center></h1>\n",
        "\n",
        "---\n",
        "Credits: Thanks and credits to materials from UCL and GeorgiaTech\n",
        "---\n",
        "\n"
      ]
    },
    {
      "cell_type": "code",
      "execution_count": null,
      "metadata": {},
      "outputs": [],
      "source": [
        "#@\n",
        "Name = \"Rishu Verma\" #@param {type:\"string\"}"
      ]
    },
    {
      "cell_type": "markdown",
      "metadata": {
        "id": "3lammv9QCr78"
      },
      "source": [
        "### Problem 1\n",
        "--------------\n",
        "\n",
        "Let $ \\ T:\\mathbb{R}^3 \\rightarrow \\mathbb{R}^4$ be defined by \\\n",
        "$$ Tx = \\begin{bmatrix}\n",
        "x_1 - 3x_3 \\\\\n",
        "x_1+x_2 -6x_3 \\\\\n",
        "x_2-3x_3 \\\\\n",
        "x_1 - 3x_3\n",
        "\\end{bmatrix} $$\n",
        "\n",
        "for every $x = \\begin{bmatrix} x_1 \\\\ x_2 \\\\ x_3 \\end{bmatrix} \\in \\mathbb{R}^3$ Then, \n"
      ]
    },
    {
      "cell_type": "markdown",
      "metadata": {
        "id": "aqo0DGm6EWHr"
      },
      "source": [
        "1) Write $\\ T$ in matrix form.\n"
      ]
    },
    {
      "cell_type": "markdown",
      "metadata": {
        "id": "L0sXsjp9EpEh"
      },
      "source": [
        "*answer* :\\\n",
        "Given $x = \\begin{bmatrix} x_1 \\\\ x_2 \\\\ x_3 \\end{bmatrix} \\in \\mathbb{R}^3$ and $ \\ T:\\mathbb{R}^3 \\rightarrow \\mathbb{R}^4$ be defined by \\\n",
        "$$ Tx = \\begin{bmatrix}\n",
        "x_1 - 3x_3 \\\\\n",
        "x_1+x_2 -6x_3 \\\\\n",
        "x_2-3x_3 \\\\\n",
        "x_1 - 3x_3\n",
        "\\end{bmatrix} \\rightarrow (1)$$ \n",
        "\n",
        "L.H.S of (1) i.e $Tx$ can also be represented as $T \\begin{bmatrix} x_1 \\\\ x_2 \\\\ x_3 \\end{bmatrix}$.\\\n",
        "Now, working on R.H.S of (1) to get it to the form of L.H.S. Also we know by the defination of linear transformation given function T is linear if $T : R^n → R^m$ satisifies additive and multiplication properties i.e,  \n",
        "\n",
        "$1.   T(a+b) = T(a)+ T (b)$\\\n",
        "$2.   T(ax)= xT(a)$ \n",
        "\\\n",
        "∀ vectors a, b in $R^n$ and all scalars x .\n",
        "\n",
        "Therfore, representing the R.H.S in terms of basis vector we get\\\n",
        "$x_1 \\begin{bmatrix} 1 \\\\ 1 \\\\ 0 \\\\ 1 \\end{bmatrix}$ +\n",
        "$x_2 \\begin{bmatrix} 0 \\\\ 1 \\\\ 1 \\\\ 0 \\end{bmatrix}$ +\n",
        "$x_3 \\begin{bmatrix} -3 \\\\ -6 \\\\ -3 \\\\ -3 \\end{bmatrix}$ \n",
        "\n",
        "This can also be written as $$ \\begin{bmatrix}\n",
        "1&0&-3\\\\\n",
        "1&1&-6\\\\\n",
        "0&1&-3\\\\\n",
        "1&0&-3\\\\\n",
        "\\end{bmatrix} \\begin{bmatrix} x_1 \\\\ x_2 \\\\ x_3 \\end{bmatrix} → (2)$$ and we know $\\begin{bmatrix} x_1 \\\\ x_2 \\\\ x_3 \\end{bmatrix} = x$. Hence from (2) we get matrix form of:\n",
        "$$ T = \\begin{bmatrix}\n",
        "1&0&-3\\\\\n",
        "1&1&-6\\\\\n",
        "0&1&-3\\\\\n",
        "1&0&-3\\\\\n",
        "\\end{bmatrix}$$"
      ]
    },
    {
      "cell_type": "markdown",
      "metadata": {
        "id": "XOVN3ALeEwYi"
      },
      "source": [
        "2) $T(3, -2, 4)$ "
      ]
    },
    {
      "cell_type": "markdown",
      "metadata": {
        "id": "nBCQL-VbE6Nw"
      },
      "source": [
        "*answer* : \\\n",
        "$T(3, -2, 4)$ that means $x_1 = 3, x_2 = -2, x_3 = 4$ putting in (1) we get\n",
        "$$ \\begin{bmatrix}\n",
        "3 - 3*4 \\\\\n",
        "3+(-2) -6*4 \\\\\n",
        "-2-3*4 \\\\\n",
        "3 - 3*4\n",
        "\\end{bmatrix} = \\begin{bmatrix}\n",
        "-9\\\\\n",
        "-23 \\\\\n",
        "-14 \\\\\n",
        "-9\n",
        "\\end{bmatrix} $$\n",
        "Hence, $T(3, -2, 4)$ = $(-9, -23, -14, -9)$"
      ]
    },
    {
      "cell_type": "markdown",
      "metadata": {
        "id": "YtcEV5PAFQrj"
      },
      "source": [
        "3) Is $\\ T$ linear? Why ?"
      ]
    },
    {
      "cell_type": "markdown",
      "metadata": {
        "id": "eR-jjYPxFXqY"
      },
      "source": [
        "*answer* : \\\n",
        "Yes, T is linear because as per mentioned in the answer to question 1) the defination of linear transformation stats that a given function T is linear if $T : R^n → R^m$ satisifies additive and multiplication properties i.e,  \n",
        "\n",
        "$1.   T(a+b) = T(a)+ T (b)$\\\n",
        "$2.   T(ax)= xT(a)$ \n",
        "\\\n",
        "∀ vectors a, b in $R^n$ and all scalars x .\n",
        "\n",
        "and in our case $Tx$ satisifies these properties, which can be intutively justifed by looking at each component of the function T. Each term in the $T(x_1 - 3x_3,\n",
        "x_1+x_2 -6x_3,\n",
        "x_2-3x_3,\n",
        "x_1 - 3x_3)$ is either a scaler times one of the component in $x$ and no two components are multiplied to each other. Also additive property is satisifed as there is just the scaled value of the components which is added and no other constant values.\n",
        "Also as T(0) = 0 therefore the scalar property is satisified.\n",
        "We can also give the proof of additive property of substituting values of column array (3x1) $[a_1 a_2 a_3]$ and column array b as (3x1) $[b_1 b_2 b_3]$.  \n"
      ]
    },
    {
      "cell_type": "markdown",
      "metadata": {
        "id": "Sb0w8cl1FhqG"
      },
      "source": [
        "### Problem 2\n",
        "--------------\n",
        "\n",
        "Consider the following function of $x = (x1, x2, x3, x4, x5, x6)$:\n",
        "\n",
        "$$\n",
        "f(x) = \\sigma \\Big(\\log \\Big(5  \\Big(max\\{x_1, x_2\\}.\\frac{x_3}{x_4} - (x_5+x_6) \\Big) \\Big) + \\frac{1}{2} \\Big)\n",
        "$$\n",
        "\n",
        "where $\\sigma$ is the sigmoid function\n",
        "\n",
        "$$\n",
        "  \\sigma(x) = \\frac{1}{1+e^{-x}}\n",
        "$$\n",
        "\n",
        "Compute the gradient $\\nabla_x f$ and evaluate it at $x = (-1, 3, 4, 5, -5, 7)$"
      ]
    },
    {
      "attachments": {},
      "cell_type": "markdown",
      "metadata": {
        "id": "xiqJ5588IQy0"
      },
      "source": [
        "*answer* :\\\n",
        "In this question we need to perform the partial derivative of function $f(x)$ with respect to $x_1, x_2, x_3, x_4, x_5, x_6$ but as we can see $f(x)$ from derivative point of view we seen as $y = v(u(x))$. If we consider $v$ as the $σ$ and $u(x)$ = $g(x)+ \\frac{1}{2}$ where $g(x) = \\log \\Big(5  \\Big(max\\{x_1, x_2\\}.\\frac{x_3}{x_4} - (x_5+x_6) \\Big)$.\n",
        "\n",
        "Then by chain rule we know: if given $ y = v(u(x))$ then $\\frac{dy}{dx} = \\frac{dv}{du} . \\frac{du}{dx}$\n",
        "\n",
        "Simplifying by:\n",
        "1. Finding the $\\sigma'(x)$ \\\n",
        "    $\\frac{d}{dx}σ(x) = \\frac{d}{dx}\\Big(\\frac{1}{1+e^{-x}}\\Big)$\\\n",
        "    By reciprocal rule: $\\frac{d}{dx}\\Big[\\frac{1}{h(x)}\\Big] = \\frac{- h'(x)}{(h(x))^2}$\\\n",
        "    $ -\\Big(\\frac{\\frac{d}{dx}(1) + \\frac{d}{dx}(e^{-x})}{(1+e^{-x})^{2}}\\Big) = \\frac{e^{-x}}{(1+e^{-x})^{2}}$\\\n",
        "   (Used exponential rule for solving $\\frac{d}{dx}(e^{-x}) = (-1).(e^{-x}) = -e^{-x}$) \\\n",
        "   \\\n",
        "    This upon further simplification can be written as:\\\n",
        "    $σ(x)(1-σ(x))$\n",
        "\n",
        "2.  Applying addition rule on $u(x)$ which will result as:\\\n",
        "$\\frac{du}{dx} = \\frac{dg}{dx} + \\frac{d}{dx}(\\frac{1}{2})$ as we know the derivative of constant = 0 therefore, $\\frac{du}{dx} = \\frac{dg}{dx}$.\\\n",
        "\\\n",
        "Solving for $g(x)$ using the log rule of derivatives:\\\n",
        "$\\frac{dg}{dx} = \\frac{d}{dx} \\Big(\\log \\Big(5  \\Big(max\\{x_1, x_2\\}.\\frac{x_3}{x_4} - (x_5+x_6) \\Big) = \\frac{1}{5(h(x))}. 5. h'(x)  = \\frac{1}{(h(x))}. h'(x)$\\\n",
        "where $h(x)$ = $max\\{x_1, x_2\\}.\\frac{x_3}{x_4} - (x_5+x_6)$ \n",
        "\n",
        "3.  \n",
        "We know by multiplication rule : $\\frac{d}{dx} (f(x)g(x)) = f'(x)g(x) + g'(x)f(x)$\\\n",
        "Also we know if $f(x_1, x_2)$ = $max\\{x_1, x_2\\}$ then value of this fuction will evaluate as $x_1$ if $x_1 ≥ x_2$ and $x_2$ otherwise.\\\n",
        "Therefore\\\n",
        " $\\frac{\\partial f}{\\partial x_1} = 1$ if $x_1 > x_2$ and 0 otherwise\\\n",
        " $\\frac{\\partial f}{\\partial x_2} = 1$ if $x_2 > x_1$ and 0 otherwise\n",
        "\n",
        "Performaing derivatives on h(x) with respect to $x_1, x_2, x_3, x_4, x_5, x_6$ By multiplicative rule and derivation of max function:\\\n",
        " Considering the given values of $x_1$ = -1 and $x_2$ = 3 and $x_2$>$x_1$ $\\frac{\\partial h}{\\partial x_1}$ =  0\\\n",
        " Considering the given values of $x_1$ = -1 and $x_2$ = 3 and $x_2$>$x_1$ $\\frac{\\partial h}{\\partial x_2}$ =  $\\frac{x_3}{x_4} = \\frac{4}{5} = 0.8$\\\n",
        " $\\frac{\\partial h}{\\partial x_3}$ =  $\\frac{max\\{x_1, x_2\\}}{x_4} = \\frac{3}{5} = 0.6$\\\n",
        " Considering $\\frac{d}{dx}\\Big(\\frac{1}{x}\\Big) = -x^{-2}$ → $\\frac{\\partial h}{\\partial x_4}$ =  $\\frac{max\\{x_1, x_2\\}.x_3}{-x_4^{2}} = -\\frac{3*4}{25} = -0.48$ \\\n",
        "$\\frac{\\partial h}{\\partial x_5}$ =  -1\\\n",
        "$\\frac{\\partial h}{\\partial x_6}$ =  -1 \\\n",
        "\n",
        "Considering we are evaluating for given values of $x = (-1, 3, 4, 5, -5, 7)$. I have directly put values in the derivation for simplicity.\n",
        "\n",
        "4. Now applying the chain rule on 1, 2, 3 above we get:\\\n",
        "$\\frac{d y}{d x}$ = $\\sigma'(u(x)).\\frac{1}{(h(x))}. h'(x)$:\\\n",
        "$\\frac{\\partial y }{\\partial x_1} = \\sigma(u(x)).(1-\\sigma(u(x)).\\frac{1}{(h(x))}. 0 = 0$  \\\n",
        "$\\frac{\\partial y }{\\partial x_2} = \\sigma(u(x)).(1-\\sigma(u(x)).\\frac{1}{(h(x))}. 0.8 = 0.35709771799814977 $ \\\n",
        "$\\frac{\\partial y }{\\partial x_3} = \\sigma(u(x)).(1-\\sigma(u(x)).\\frac{1}{(h(x))}. 0.6 = 0.2678232884986123 $\\\n",
        "$\\frac{\\partial y }{\\partial x_4} = \\sigma(u(x)).(1-\\sigma(u(x)).\\frac{1}{(h(x))}. -0.48 = -0.21425863079888982 $\\\n",
        "$\\frac{\\partial y }{\\partial x_5} = \\sigma(u(x)).(1-\\sigma(u(x)).\\frac{1}{(h(x))}. -1 = -0.44637214749768717 $\\\n",
        "$\\frac{\\partial y }{\\partial x_6} = \\sigma(u(x)).(1-\\sigma(u(x)).\\frac{1}{(h(x))}. -1 = -0.44637214749768717 $ \n",
        "\n",
        "where value of $\\sigma(u(x)).(1-\\sigma(u(x)) = 0.17855$ and $\\frac{1}{(h(x))}$ = 2.49.\n",
        "\n",
        "Hence: gradient $\\nabla_x f$ evaluate it at $x = (-1, 3, 4, 5, -5, 7)$  will be [0, 0.3571, 0.2678, -0.2143, -0.44637, -0.44637].\n",
        "\n"
      ]
    },
    {
      "cell_type": "markdown",
      "metadata": {
        "id": "0WLNOvtEIXyZ"
      },
      "source": [
        "### Problem 3\n",
        "-------------"
      ]
    },
    {
      "cell_type": "markdown",
      "metadata": {
        "id": "XiFdZ9UAJFLa"
      },
      "source": [
        "$a = [2, 6, 1, 9, 10, 3, 27, 5, 7, 14, 24, 3]$\n",
        "\n",
        "Get all items in range $(5, 10]$ from $a$\n",
        "\n",
        "Note: Use only indexing methods, do not use iteration or if conditions"
      ]
    },
    {
      "cell_type": "code",
      "execution_count": 2,
      "metadata": {
        "colab": {
          "base_uri": "https://localhost:8080/"
        },
        "id": "Vb2kvO7iJNb2",
        "outputId": "f39dd7cf-9b51-4624-9f98-69c172269688"
      },
      "outputs": [
        {
          "name": "stdout",
          "output_type": "stream",
          "text": [
            "[[ 6  9 10  7]]\n",
            "[ 6  9 10  7]\n"
          ]
        }
      ],
      "source": [
        "import numpy as np\n",
        "## write your code under this line:\n",
        "a = np.array([2,6,1,9,10,3,27,5,7,14,24,3])\n",
        "b = np.take(a,np.where((a>5) & (a<=10)))\n",
        "print(b)\n",
        "\n",
        "##can also be done without \"Take\"\n",
        "c = a[np.where((a>5) & (a<=10))]\n",
        "print(c)\n",
        "#----------------------------------"
      ]
    },
    {
      "cell_type": "markdown",
      "metadata": {
        "id": "1PSNy_wOKNx1"
      },
      "source": [
        "### Problem 4\n",
        "--------------\n",
        "\n",
        "Let \n",
        "\n",
        "$$x = [3, 4, 5]$$\n",
        "\n",
        "\n",
        "$$W = \\begin{bmatrix} 1 & 5 & 3 \\\\ 2 & 5 & 5 \\\\5 & 5 &1 \\end{bmatrix}$$\n",
        "\n",
        "Compute\n"
      ]
    },
    {
      "cell_type": "code",
      "execution_count": 2,
      "metadata": {
        "id": "MYRx1hd_cITt"
      },
      "outputs": [],
      "source": [
        "x = np.array([3, 4, 5])"
      ]
    },
    {
      "cell_type": "code",
      "execution_count": 3,
      "metadata": {
        "id": "T-YLTtEacOZh"
      },
      "outputs": [],
      "source": [
        "W = np.array([[1, 5, 3], [2, 5, 5], [5,5,1]])"
      ]
    },
    {
      "cell_type": "markdown",
      "metadata": {
        "id": "G9MqsESFMIwM"
      },
      "source": [
        "1) $x^T$"
      ]
    },
    {
      "cell_type": "code",
      "execution_count": 63,
      "metadata": {
        "colab": {
          "base_uri": "https://localhost:8080/"
        },
        "id": "HwuNRK5ZKxuJ",
        "outputId": "db0528a2-bdb5-4a49-d827-69c948e607de"
      },
      "outputs": [
        {
          "name": "stdout",
          "output_type": "stream",
          "text": [
            "[3 4 5]\n"
          ]
        }
      ],
      "source": [
        "## write your code under this line:\n",
        "y = x.transpose()\n",
        "print(y)\n",
        "#----------------------------------"
      ]
    },
    {
      "cell_type": "markdown",
      "metadata": {
        "id": "PS1L_4-fMlcq"
      },
      "source": [
        "2) $z = Wx^T$"
      ]
    },
    {
      "cell_type": "code",
      "execution_count": 66,
      "metadata": {
        "colab": {
          "base_uri": "https://localhost:8080/"
        },
        "id": "tfVfn_AeMEz6",
        "outputId": "328fb5ef-b8f2-4e52-da64-ecb8a2a104b6"
      },
      "outputs": [
        {
          "name": "stdout",
          "output_type": "stream",
          "text": [
            "[38 51 40]\n"
          ]
        }
      ],
      "source": [
        "## write your code under this line:\n",
        "z = np.matmul(W, y)\n",
        "print(z)\n",
        "#----------------------------------"
      ]
    },
    {
      "cell_type": "markdown",
      "metadata": {
        "id": "P7gytEuzM9wm"
      },
      "source": [
        "3) Write a function softmax:\n",
        "$$\n",
        "  softmax(x)_i = \\frac{e^{x_i}}{\\sum_j e^{x_j}}\n",
        "$$\n"
      ]
    },
    {
      "cell_type": "code",
      "execution_count": 55,
      "metadata": {
        "id": "AdrEij6EMFr5"
      },
      "outputs": [],
      "source": [
        "def softmax(x):\n",
        "  # x is a numpy array of length 3\n",
        "  ## write your code under this line:\n",
        "  expo = np.exp(x)\n",
        "  res = expo/np.sum(expo)\n",
        "  #----------------------------------\n",
        "  return res  # return correct result"
      ]
    },
    {
      "cell_type": "markdown",
      "metadata": {
        "id": "ABBYBoNTOdek"
      },
      "source": [
        "compute $softmax(z)$ :"
      ]
    },
    {
      "cell_type": "code",
      "execution_count": 56,
      "metadata": {
        "colab": {
          "base_uri": "https://localhost:8080/"
        },
        "id": "a58yF-4zOgHp",
        "outputId": "fda2bbeb-beed-49a4-a33a-6c72f1b7c7cd"
      },
      "outputs": [
        {
          "data": {
            "text/plain": [
              "array([2.26028655e-06, 9.99981038e-01, 1.67013841e-05])"
            ]
          },
          "execution_count": 56,
          "metadata": {},
          "output_type": "execute_result"
        }
      ],
      "source": [
        "## write your code under this line:\n",
        "softmax(z)\n",
        "#----------------------------------"
      ]
    },
    {
      "cell_type": "markdown",
      "metadata": {
        "id": "-7ktHv4MOkwn"
      },
      "source": [
        "----------------------------"
      ]
    }
  ],
  "metadata": {
    "colab": {
      "provenance": []
    },
    "kernelspec": {
      "display_name": "Python 3",
      "name": "python3"
    },
    "language_info": {
      "name": "python"
    }
  },
  "nbformat": 4,
  "nbformat_minor": 0
}
